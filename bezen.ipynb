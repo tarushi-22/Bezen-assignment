{
  "nbformat": 4,
  "nbformat_minor": 0,
  "metadata": {
    "colab": {
      "name": "bezen.ipynb",
      "provenance": [],
      "collapsed_sections": [],
      "authorship_tag": "ABX9TyPzDZ/h+5DeeRY/011HG8/P",
      "include_colab_link": true
    },
    "kernelspec": {
      "name": "python3",
      "display_name": "Python 3"
    },
    "language_info": {
      "name": "python"
    }
  },
  "cells": [
    {
      "cell_type": "markdown",
      "metadata": {
        "id": "view-in-github",
        "colab_type": "text"
      },
      "source": [
        "<a href=\"https://colab.research.google.com/github/tarushi-22/Bezen-assignment/blob/main/bezen.ipynb\" target=\"_parent\"><img src=\"https://colab.research.google.com/assets/colab-badge.svg\" alt=\"Open In Colab\"/></a>"
      ]
    },
    {
      "cell_type": "markdown",
      "source": [
        "importing pandas and seaborn"
      ],
      "metadata": {
        "id": "u3Iql6EjRZP_"
      }
    },
    {
      "cell_type": "code",
      "execution_count": 246,
      "metadata": {
        "id": "mXeTAW4vPM52"
      },
      "outputs": [],
      "source": [
        "import pandas as pd\n",
        "import seaborn as sns\n",
        "import matplotlib.pyplot as plt\n",
        "\n"
      ]
    },
    {
      "cell_type": "markdown",
      "source": [
        "reading the database"
      ],
      "metadata": {
        "id": "n0H0J_pCRXBf"
      }
    },
    {
      "cell_type": "code",
      "source": [
        "df=pd.read_csv(\"database/2022_02_08-02_30_31_AM.csv\")"
      ],
      "metadata": {
        "id": "cLHp45ELP03W"
      },
      "execution_count": 247,
      "outputs": []
    },
    {
      "cell_type": "markdown",
      "source": [
        "Showing some info about the database\n"
      ],
      "metadata": {
        "id": "5ljmV6xOIj8p"
      }
    },
    {
      "cell_type": "code",
      "source": [
        "df.info()\n",
        "#since not all the data is loaded because it takes a v long time so I am just working with the loaded data"
      ],
      "metadata": {
        "id": "AcU8Gbd9InwC",
        "colab": {
          "base_uri": "https://localhost:8080/"
        },
        "outputId": "c77b0d71-0981-4e89-88a9-a35cca6a0099"
      },
      "execution_count": 248,
      "outputs": [
        {
          "output_type": "stream",
          "name": "stdout",
          "text": [
            "<class 'pandas.core.frame.DataFrame'>\n",
            "RangeIndex: 5558299 entries, 0 to 5558298\n",
            "Data columns (total 6 columns):\n",
            " #   Column            Dtype \n",
            "---  ------            ----- \n",
            " 0   uuid              object\n",
            " 1   price_string      object\n",
            " 2   price_string_unf  object\n",
            " 3   product_type      object\n",
            " 4   level_1           object\n",
            " 5   category          object\n",
            "dtypes: object(6)\n",
            "memory usage: 254.4+ MB\n"
          ]
        }
      ]
    },
    {
      "cell_type": "markdown",
      "source": [
        "# **1) all the products wihtout prices**"
      ],
      "metadata": {
        "id": "yq3I3fjmRSVF"
      }
    },
    {
      "cell_type": "code",
      "source": [
        "#product without prices #query1\n",
        "product_without_prices=df[df.price_string.isna()]\n",
        "product_without_prices"
      ],
      "metadata": {
        "colab": {
          "base_uri": "https://localhost:8080/",
          "height": 991
        },
        "id": "Hcwo0GiaP8PM",
        "outputId": "ed563228-363e-4258-a26b-909408efc916"
      },
      "execution_count": 249,
      "outputs": [
        {
          "output_type": "execute_result",
          "data": {
            "text/html": [
              "\n",
              "  <div id=\"df-b4fdc358-6c95-484e-b3e5-bdb537b79f54\">\n",
              "    <div class=\"colab-df-container\">\n",
              "      <div>\n",
              "<style scoped>\n",
              "    .dataframe tbody tr th:only-of-type {\n",
              "        vertical-align: middle;\n",
              "    }\n",
              "\n",
              "    .dataframe tbody tr th {\n",
              "        vertical-align: top;\n",
              "    }\n",
              "\n",
              "    .dataframe thead th {\n",
              "        text-align: right;\n",
              "    }\n",
              "</style>\n",
              "<table border=\"1\" class=\"dataframe\">\n",
              "  <thead>\n",
              "    <tr style=\"text-align: right;\">\n",
              "      <th></th>\n",
              "      <th>uuid</th>\n",
              "      <th>price_string</th>\n",
              "      <th>price_string_unf</th>\n",
              "      <th>product_type</th>\n",
              "      <th>level_1</th>\n",
              "      <th>category</th>\n",
              "    </tr>\n",
              "  </thead>\n",
              "  <tbody>\n",
              "    <tr>\n",
              "      <th>0</th>\n",
              "      <td>638744a4-b0ae-4166-8cb6-5c063c862036</td>\n",
              "      <td>NaN</td>\n",
              "      <td>NaN</td>\n",
              "      <td>TGFwdG9wIENvdmVycy9CYWdz</td>\n",
              "      <td>TGFwdG9wIENhc2U</td>\n",
              "      <td>RWxlY3Ryb25pY3M</td>\n",
              "    </tr>\n",
              "    <tr>\n",
              "      <th>1</th>\n",
              "      <td>ab313969-02cc-48b2-9daf-0054efb70b92</td>\n",
              "      <td>NaN</td>\n",
              "      <td>NaN</td>\n",
              "      <td>QmFraW5nIEN1cHMgYW5kIE1hdHM</td>\n",
              "      <td>QmFraW5nIE1hdHMgLyBCYWtpbmcgZGlzaA</td>\n",
              "      <td>a2l0Y2hpbmcgYW5kIGRpbmluZw</td>\n",
              "    </tr>\n",
              "    <tr>\n",
              "      <th>5</th>\n",
              "      <td>389d9f75-cc3f-4bd2-94f7-93e381a3bed5</td>\n",
              "      <td>NaN</td>\n",
              "      <td>NaN</td>\n",
              "      <td>TmF0dXJhbCBTd2VldGVuZXJzLyBTdWdhcg</td>\n",
              "      <td>TW9uayBGcnVpdA</td>\n",
              "      <td>Z3JvY2VyaWVz</td>\n",
              "    </tr>\n",
              "    <tr>\n",
              "      <th>13</th>\n",
              "      <td>1f2766ec-0a27-43f8-b28b-77a44492ead1</td>\n",
              "      <td>NaN</td>\n",
              "      <td>NaN</td>\n",
              "      <td>U2NydWJzIGFuZCBjbGVhbmluZyBjbG90aHM</td>\n",
              "      <td>U2NydWJz</td>\n",
              "      <td>SG91c2Vob2xkIGFuZCBDbGVhbmluZw</td>\n",
              "    </tr>\n",
              "    <tr>\n",
              "      <th>16</th>\n",
              "      <td>7bad39f5-74b9-4611-afb9-46fb135190cd</td>\n",
              "      <td>NaN</td>\n",
              "      <td>NaN</td>\n",
              "      <td>UGx1cyBzaXplIHdlYXIgZHJlc3M</td>\n",
              "      <td>RHJlc3M</td>\n",
              "      <td>Q2xvdGhpbmcgYW5kIEFjY2Vzc29yaWVz</td>\n",
              "    </tr>\n",
              "    <tr>\n",
              "      <th>...</th>\n",
              "      <td>...</td>\n",
              "      <td>...</td>\n",
              "      <td>...</td>\n",
              "      <td>...</td>\n",
              "      <td>...</td>\n",
              "      <td>...</td>\n",
              "    </tr>\n",
              "    <tr>\n",
              "      <th>5558292</th>\n",
              "      <td>85da037d-5c34-4772-801c-e71c3db3169f</td>\n",
              "      <td>NaN</td>\n",
              "      <td>NaN</td>\n",
              "      <td>U2FuaXRhcnkgTmFwa2lucy8gVGFtcG9ucw</td>\n",
              "      <td>Q2xvdGggUGFkcw</td>\n",
              "      <td>YmVhdXR5IGFuZCBwZXJzb25hbCBjYXJl</td>\n",
              "    </tr>\n",
              "    <tr>\n",
              "      <th>5558293</th>\n",
              "      <td>df8dbd3d-fd02-4075-8633-f8c5dab7dca9</td>\n",
              "      <td>NaN</td>\n",
              "      <td>NaN</td>\n",
              "      <td>RWR1Y2F0aW9uYWwgQmxvY2tzL1RveXM</td>\n",
              "      <td>TnVtYmVyIFRveXM</td>\n",
              "      <td>VG95cyBhbmQgR2FtZXM</td>\n",
              "    </tr>\n",
              "    <tr>\n",
              "      <th>5558294</th>\n",
              "      <td>d47c3486-048c-44a0-9c28-6b1c030efa7f</td>\n",
              "      <td>NaN</td>\n",
              "      <td>NaN</td>\n",
              "      <td>Qm9vdHM</td>\n",
              "      <td>d29tZW5zIGJvb3Rz</td>\n",
              "      <td>Q2xvdGhpbmcgYW5kIEFjY2Vzc29yaWVz</td>\n",
              "    </tr>\n",
              "    <tr>\n",
              "      <th>5558297</th>\n",
              "      <td>4310e8b0-1437-4020-b761-bedc10c1ac66</td>\n",
              "      <td>NaN</td>\n",
              "      <td>NaN</td>\n",
              "      <td>R3VtbWllcyB2aXRhbWlucyBhbmQgbWluZXJhbHMgZm9yIG...</td>\n",
              "      <td>SW1tdW5pdHkgZ3VtbWllcw</td>\n",
              "      <td>SGVhbHRo</td>\n",
              "    </tr>\n",
              "    <tr>\n",
              "      <th>5558298</th>\n",
              "      <td>07e97457-1f03-4697-8746-4dd3a559cfeb</td>\n",
              "      <td>NaN</td>\n",
              "      <td>NaN</td>\n",
              "      <td>UmVmcmlnZXJhdG9yIFdhdGVyIEZpbHRlcg</td>\n",
              "      <td>UmVmcmlnZXJhdG9yIFdhdGVyIEZpbHRlcg</td>\n",
              "      <td>VG9vbHMgY</td>\n",
              "    </tr>\n",
              "  </tbody>\n",
              "</table>\n",
              "<p>3328027 rows × 6 columns</p>\n",
              "</div>\n",
              "      <button class=\"colab-df-convert\" onclick=\"convertToInteractive('df-b4fdc358-6c95-484e-b3e5-bdb537b79f54')\"\n",
              "              title=\"Convert this dataframe to an interactive table.\"\n",
              "              style=\"display:none;\">\n",
              "        \n",
              "  <svg xmlns=\"http://www.w3.org/2000/svg\" height=\"24px\"viewBox=\"0 0 24 24\"\n",
              "       width=\"24px\">\n",
              "    <path d=\"M0 0h24v24H0V0z\" fill=\"none\"/>\n",
              "    <path d=\"M18.56 5.44l.94 2.06.94-2.06 2.06-.94-2.06-.94-.94-2.06-.94 2.06-2.06.94zm-11 1L8.5 8.5l.94-2.06 2.06-.94-2.06-.94L8.5 2.5l-.94 2.06-2.06.94zm10 10l.94 2.06.94-2.06 2.06-.94-2.06-.94-.94-2.06-.94 2.06-2.06.94z\"/><path d=\"M17.41 7.96l-1.37-1.37c-.4-.4-.92-.59-1.43-.59-.52 0-1.04.2-1.43.59L10.3 9.45l-7.72 7.72c-.78.78-.78 2.05 0 2.83L4 21.41c.39.39.9.59 1.41.59.51 0 1.02-.2 1.41-.59l7.78-7.78 2.81-2.81c.8-.78.8-2.07 0-2.86zM5.41 20L4 18.59l7.72-7.72 1.47 1.35L5.41 20z\"/>\n",
              "  </svg>\n",
              "      </button>\n",
              "      \n",
              "  <style>\n",
              "    .colab-df-container {\n",
              "      display:flex;\n",
              "      flex-wrap:wrap;\n",
              "      gap: 12px;\n",
              "    }\n",
              "\n",
              "    .colab-df-convert {\n",
              "      background-color: #E8F0FE;\n",
              "      border: none;\n",
              "      border-radius: 50%;\n",
              "      cursor: pointer;\n",
              "      display: none;\n",
              "      fill: #1967D2;\n",
              "      height: 32px;\n",
              "      padding: 0 0 0 0;\n",
              "      width: 32px;\n",
              "    }\n",
              "\n",
              "    .colab-df-convert:hover {\n",
              "      background-color: #E2EBFA;\n",
              "      box-shadow: 0px 1px 2px rgba(60, 64, 67, 0.3), 0px 1px 3px 1px rgba(60, 64, 67, 0.15);\n",
              "      fill: #174EA6;\n",
              "    }\n",
              "\n",
              "    [theme=dark] .colab-df-convert {\n",
              "      background-color: #3B4455;\n",
              "      fill: #D2E3FC;\n",
              "    }\n",
              "\n",
              "    [theme=dark] .colab-df-convert:hover {\n",
              "      background-color: #434B5C;\n",
              "      box-shadow: 0px 1px 3px 1px rgba(0, 0, 0, 0.15);\n",
              "      filter: drop-shadow(0px 1px 2px rgba(0, 0, 0, 0.3));\n",
              "      fill: #FFFFFF;\n",
              "    }\n",
              "  </style>\n",
              "\n",
              "      <script>\n",
              "        const buttonEl =\n",
              "          document.querySelector('#df-b4fdc358-6c95-484e-b3e5-bdb537b79f54 button.colab-df-convert');\n",
              "        buttonEl.style.display =\n",
              "          google.colab.kernel.accessAllowed ? 'block' : 'none';\n",
              "\n",
              "        async function convertToInteractive(key) {\n",
              "          const element = document.querySelector('#df-b4fdc358-6c95-484e-b3e5-bdb537b79f54');\n",
              "          const dataTable =\n",
              "            await google.colab.kernel.invokeFunction('convertToInteractive',\n",
              "                                                     [key], {});\n",
              "          if (!dataTable) return;\n",
              "\n",
              "          const docLinkHtml = 'Like what you see? Visit the ' +\n",
              "            '<a target=\"_blank\" href=https://colab.research.google.com/notebooks/data_table.ipynb>data table notebook</a>'\n",
              "            + ' to learn more about interactive tables.';\n",
              "          element.innerHTML = '';\n",
              "          dataTable['output_type'] = 'display_data';\n",
              "          await google.colab.output.renderOutput(dataTable, element);\n",
              "          const docLink = document.createElement('div');\n",
              "          docLink.innerHTML = docLinkHtml;\n",
              "          element.appendChild(docLink);\n",
              "        }\n",
              "      </script>\n",
              "    </div>\n",
              "  </div>\n",
              "  "
            ],
            "text/plain": [
              "                                         uuid  ...                          category\n",
              "0        638744a4-b0ae-4166-8cb6-5c063c862036  ...                   RWxlY3Ryb25pY3M\n",
              "1        ab313969-02cc-48b2-9daf-0054efb70b92  ...        a2l0Y2hpbmcgYW5kIGRpbmluZw\n",
              "5        389d9f75-cc3f-4bd2-94f7-93e381a3bed5  ...                      Z3JvY2VyaWVz\n",
              "13       1f2766ec-0a27-43f8-b28b-77a44492ead1  ...    SG91c2Vob2xkIGFuZCBDbGVhbmluZw\n",
              "16       7bad39f5-74b9-4611-afb9-46fb135190cd  ...  Q2xvdGhpbmcgYW5kIEFjY2Vzc29yaWVz\n",
              "...                                       ...  ...                               ...\n",
              "5558292  85da037d-5c34-4772-801c-e71c3db3169f  ...  YmVhdXR5IGFuZCBwZXJzb25hbCBjYXJl\n",
              "5558293  df8dbd3d-fd02-4075-8633-f8c5dab7dca9  ...               VG95cyBhbmQgR2FtZXM\n",
              "5558294  d47c3486-048c-44a0-9c28-6b1c030efa7f  ...  Q2xvdGhpbmcgYW5kIEFjY2Vzc29yaWVz\n",
              "5558297  4310e8b0-1437-4020-b761-bedc10c1ac66  ...                          SGVhbHRo\n",
              "5558298  07e97457-1f03-4697-8746-4dd3a559cfeb  ...                         VG9vbHMgY\n",
              "\n",
              "[3328027 rows x 6 columns]"
            ]
          },
          "metadata": {},
          "execution_count": 249
        }
      ]
    },
    {
      "cell_type": "code",
      "source": [
        "#count of products wihtout prices\n",
        "print(\"Count of products wihout prices=\",len(product_without_prices))\n"
      ],
      "metadata": {
        "colab": {
          "base_uri": "https://localhost:8080/"
        },
        "id": "vMvI0v1kTWHj",
        "outputId": "1b69d69d-b227-46bf-af70-0e3367825912"
      },
      "execution_count": 250,
      "outputs": [
        {
          "output_type": "stream",
          "name": "stdout",
          "text": [
            "Count of products wihout prices= 3328027\n"
          ]
        }
      ]
    },
    {
      "cell_type": "code",
      "source": [
        "#plotting seaborn matrix \n",
        "#white space represents null or NaN value\n",
        "hm=sns.heatmap(df.isna(),cmap=\"YlGnBu\",cbar_kws={'label': 'Missing Values'})\n",
        "plt.savefig(\"visualizing_missing_data_with_heatmap.png\", dpi=100)\n"
      ],
      "metadata": {
        "colab": {
          "base_uri": "https://localhost:8080/",
          "height": 340
        },
        "id": "WEOpNJCXSD5U",
        "outputId": "81f39114-5716-4e60-888e-76be66751c97"
      },
      "execution_count": 251,
      "outputs": [
        {
          "output_type": "display_data",
          "data": {
            "image/png": "[encoded data removed]",
            "text/plain": [
              "<Figure size 432x288 with 2 Axes>"
            ]
          },
          "metadata": {
            "needs_background": "light"
          }
        }
      ]
    },
    {
      "cell_type": "markdown",
      "source": [
        "## **2) Count of product without prices and with prices in each product Type,category , level 1.**"
      ],
      "metadata": {
        "id": "Z9DesMQyUB-5"
      }
    },
    {
      "cell_type": "markdown",
      "source": [
        "*Count of product without prices*"
      ],
      "metadata": {
        "id": "JKIOLh2xDEgS"
      }
    },
    {
      "cell_type": "code",
      "source": [
        "#count of products wihtout prices in each product type\n",
        "productwithoutprices_producttype=product_without_prices.groupby(['product_type']).size().reset_index(name='count of products')\n",
        "#count of products without prices in each category\n",
        "productwithoutprices_category=product_without_prices.groupby(['category']).size().reset_index(name='count of products')\n",
        "#count of products without prices in level1\n",
        "productwithoutprices_level1=product_without_prices.groupby(['level_1']).size().reset_index(name='count of products')"
      ],
      "metadata": {
        "id": "HHdeXC6BVAwI"
      },
      "execution_count": 252,
      "outputs": []
    },
    {
      "cell_type": "code",
      "source": [
        "productwithoutprices_producttype"
      ],
      "metadata": {
        "colab": {
          "base_uri": "https://localhost:8080/",
          "height": 423
        },
        "id": "9uQWJRf8Wv4t",
        "outputId": "d1e012a4-61d6-4ba4-d52d-fa49139197a2"
      },
      "execution_count": 253,
      "outputs": [
        {
          "output_type": "execute_result",
          "data": {
            "text/html": [
              "\n",
              "  <div id=\"df-8c630549-50c9-4c5f-982b-e24679664caf\">\n",
              "    <div class=\"colab-df-container\">\n",
              "      <div>\n",
              "<style scoped>\n",
              "    .dataframe tbody tr th:only-of-type {\n",
              "        vertical-align: middle;\n",
              "    }\n",
              "\n",
              "    .dataframe tbody tr th {\n",
              "        vertical-align: top;\n",
              "    }\n",
              "\n",
              "    .dataframe thead th {\n",
              "        text-align: right;\n",
              "    }\n",
              "</style>\n",
              "<table border=\"1\" class=\"dataframe\">\n",
              "  <thead>\n",
              "    <tr style=\"text-align: right;\">\n",
              "      <th></th>\n",
              "      <th>product_type</th>\n",
              "      <th>count of products</th>\n",
              "    </tr>\n",
              "  </thead>\n",
              "  <tbody>\n",
              "    <tr>\n",
              "      <th>0</th>\n",
              "      <td>Q0FUIExJVFRFUg</td>\n",
              "      <td>12146</td>\n",
              "    </tr>\n",
              "    <tr>\n",
              "      <th>1</th>\n",
              "      <td>Q29mZmVlIEJlYW5z</td>\n",
              "      <td>20155</td>\n",
              "    </tr>\n",
              "    <tr>\n",
              "      <th>2</th>\n",
              "      <td>Q29mZmVlIEZpbHRlcnM</td>\n",
              "      <td>4000</td>\n",
              "    </tr>\n",
              "    <tr>\n",
              "      <th>3</th>\n",
              "      <td>Q29uZGl0aW9uZXIgSGFpcg</td>\n",
              "      <td>8115</td>\n",
              "    </tr>\n",
              "    <tr>\n",
              "      <th>4</th>\n",
              "      <td>Q29va2llcw</td>\n",
              "      <td>12172</td>\n",
              "    </tr>\n",
              "    <tr>\n",
              "      <th>...</th>\n",
              "      <td>...</td>\n",
              "      <td>...</td>\n",
              "    </tr>\n",
              "    <tr>\n",
              "      <th>273</th>\n",
              "      <td>cGV0IEJsYW5rZXQ</td>\n",
              "      <td>4031</td>\n",
              "    </tr>\n",
              "    <tr>\n",
              "      <th>274</th>\n",
              "      <td>cGV0IFN0YWluIGFuZCBvZG9yIGVsaW1pbmF0b3I</td>\n",
              "      <td>4063</td>\n",
              "    </tr>\n",
              "    <tr>\n",
              "      <th>275</th>\n",
              "      <td>d29tZW5zIE91dGVyd2Vhcg</td>\n",
              "      <td>7985</td>\n",
              "    </tr>\n",
              "    <tr>\n",
              "      <th>276</th>\n",
              "      <td>d29tZW5zIFdhbGxldA</td>\n",
              "      <td>4098</td>\n",
              "    </tr>\n",
              "    <tr>\n",
              "      <th>277</th>\n",
              "      <td>d29tZW5zIHN3ZWF0ZXJz</td>\n",
              "      <td>36399</td>\n",
              "    </tr>\n",
              "  </tbody>\n",
              "</table>\n",
              "<p>278 rows × 2 columns</p>\n",
              "</div>\n",
              "      <button class=\"colab-df-convert\" onclick=\"convertToInteractive('df-8c630549-50c9-4c5f-982b-e24679664caf')\"\n",
              "              title=\"Convert this dataframe to an interactive table.\"\n",
              "              style=\"display:none;\">\n",
              "        \n",
              "  <svg xmlns=\"http://www.w3.org/2000/svg\" height=\"24px\"viewBox=\"0 0 24 24\"\n",
              "       width=\"24px\">\n",
              "    <path d=\"M0 0h24v24H0V0z\" fill=\"none\"/>\n",
              "    <path d=\"M18.56 5.44l.94 2.06.94-2.06 2.06-.94-2.06-.94-.94-2.06-.94 2.06-2.06.94zm-11 1L8.5 8.5l.94-2.06 2.06-.94-2.06-.94L8.5 2.5l-.94 2.06-2.06.94zm10 10l.94 2.06.94-2.06 2.06-.94-2.06-.94-.94-2.06-.94 2.06-2.06.94z\"/><path d=\"M17.41 7.96l-1.37-1.37c-.4-.4-.92-.59-1.43-.59-.52 0-1.04.2-1.43.59L10.3 9.45l-7.72 7.72c-.78.78-.78 2.05 0 2.83L4 21.41c.39.39.9.59 1.41.59.51 0 1.02-.2 1.41-.59l7.78-7.78 2.81-2.81c.8-.78.8-2.07 0-2.86zM5.41 20L4 18.59l7.72-7.72 1.47 1.35L5.41 20z\"/>\n",
              "  </svg>\n",
              "      </button>\n",
              "      \n",
              "  <style>\n",
              "    .colab-df-container {\n",
              "      display:flex;\n",
              "      flex-wrap:wrap;\n",
              "      gap: 12px;\n",
              "    }\n",
              "\n",
              "    .colab-df-convert {\n",
              "      background-color: #E8F0FE;\n",
              "      border: none;\n",
              "      border-radius: 50%;\n",
              "      cursor: pointer;\n",
              "      display: none;\n",
              "      fill: #1967D2;\n",
              "      height: 32px;\n",
              "      padding: 0 0 0 0;\n",
              "      width: 32px;\n",
              "    }\n",
              "\n",
              "    .colab-df-convert:hover {\n",
              "      background-color: #E2EBFA;\n",
              "      box-shadow: 0px 1px 2px rgba(60, 64, 67, 0.3), 0px 1px 3px 1px rgba(60, 64, 67, 0.15);\n",
              "      fill: #174EA6;\n",
              "    }\n",
              "\n",
              "    [theme=dark] .colab-df-convert {\n",
              "      background-color: #3B4455;\n",
              "      fill: #D2E3FC;\n",
              "    }\n",
              "\n",
              "    [theme=dark] .colab-df-convert:hover {\n",
              "      background-color: #434B5C;\n",
              "      box-shadow: 0px 1px 3px 1px rgba(0, 0, 0, 0.15);\n",
              "      filter: drop-shadow(0px 1px 2px rgba(0, 0, 0, 0.3));\n",
              "      fill: #FFFFFF;\n",
              "    }\n",
              "  </style>\n",
              "\n",
              "      <script>\n",
              "        const buttonEl =\n",
              "          document.querySelector('#df-8c630549-50c9-4c5f-982b-e24679664caf button.colab-df-convert');\n",
              "        buttonEl.style.display =\n",
              "          google.colab.kernel.accessAllowed ? 'block' : 'none';\n",
              "\n",
              "        async function convertToInteractive(key) {\n",
              "          const element = document.querySelector('#df-8c630549-50c9-4c5f-982b-e24679664caf');\n",
              "          const dataTable =\n",
              "            await google.colab.kernel.invokeFunction('convertToInteractive',\n",
              "                                                     [key], {});\n",
              "          if (!dataTable) return;\n",
              "\n",
              "          const docLinkHtml = 'Like what you see? Visit the ' +\n",
              "            '<a target=\"_blank\" href=https://colab.research.google.com/notebooks/data_table.ipynb>data table notebook</a>'\n",
              "            + ' to learn more about interactive tables.';\n",
              "          element.innerHTML = '';\n",
              "          dataTable['output_type'] = 'display_data';\n",
              "          await google.colab.output.renderOutput(dataTable, element);\n",
              "          const docLink = document.createElement('div');\n",
              "          docLink.innerHTML = docLinkHtml;\n",
              "          element.appendChild(docLink);\n",
              "        }\n",
              "      </script>\n",
              "    </div>\n",
              "  </div>\n",
              "  "
            ],
            "text/plain": [
              "                                product_type  count of products\n",
              "0                             Q0FUIExJVFRFUg              12146\n",
              "1                           Q29mZmVlIEJlYW5z              20155\n",
              "2                        Q29mZmVlIEZpbHRlcnM               4000\n",
              "3                     Q29uZGl0aW9uZXIgSGFpcg               8115\n",
              "4                                 Q29va2llcw              12172\n",
              "..                                       ...                ...\n",
              "273                          cGV0IEJsYW5rZXQ               4031\n",
              "274  cGV0IFN0YWluIGFuZCBvZG9yIGVsaW1pbmF0b3I               4063\n",
              "275                   d29tZW5zIE91dGVyd2Vhcg               7985\n",
              "276                       d29tZW5zIFdhbGxldA               4098\n",
              "277                     d29tZW5zIHN3ZWF0ZXJz              36399\n",
              "\n",
              "[278 rows x 2 columns]"
            ]
          },
          "metadata": {},
          "execution_count": 253
        }
      ]
    },
    {
      "cell_type": "code",
      "source": [
        "productwithoutprices_category"
      ],
      "metadata": {
        "colab": {
          "base_uri": "https://localhost:8080/",
          "height": 488
        },
        "id": "RKbBcgLqXjL2",
        "outputId": "6b799749-bc7a-4805-dd56-7efaf3afc0b1"
      },
      "execution_count": 254,
      "outputs": [
        {
          "output_type": "execute_result",
          "data": {
            "text/html": [
              "\n",
              "  <div id=\"df-3cb8f6f5-1024-4372-8916-3bb1a4c02205\">\n",
              "    <div class=\"colab-df-container\">\n",
              "      <div>\n",
              "<style scoped>\n",
              "    .dataframe tbody tr th:only-of-type {\n",
              "        vertical-align: middle;\n",
              "    }\n",
              "\n",
              "    .dataframe tbody tr th {\n",
              "        vertical-align: top;\n",
              "    }\n",
              "\n",
              "    .dataframe thead th {\n",
              "        text-align: right;\n",
              "    }\n",
              "</style>\n",
              "<table border=\"1\" class=\"dataframe\">\n",
              "  <thead>\n",
              "    <tr style=\"text-align: right;\">\n",
              "      <th></th>\n",
              "      <th>category</th>\n",
              "      <th>count of products</th>\n",
              "    </tr>\n",
              "  </thead>\n",
              "  <tbody>\n",
              "    <tr>\n",
              "      <th>0</th>\n",
              "      <td>Q2xvdGhpbmcgYW5kIEFjY2Vzc29yaWVz</td>\n",
              "      <td>830378</td>\n",
              "    </tr>\n",
              "    <tr>\n",
              "      <th>1</th>\n",
              "      <td>QXJ0IHN1cHBsaWVz</td>\n",
              "      <td>52885</td>\n",
              "    </tr>\n",
              "    <tr>\n",
              "      <th>2</th>\n",
              "      <td>QmFieWNhcmU</td>\n",
              "      <td>230372</td>\n",
              "    </tr>\n",
              "    <tr>\n",
              "      <th>3</th>\n",
              "      <td>RWxlY3Ryb25pY3M</td>\n",
              "      <td>84975</td>\n",
              "    </tr>\n",
              "    <tr>\n",
              "      <th>4</th>\n",
              "      <td>SG91c2Vob2xkIGFuZCBDbGVhbmluZw</td>\n",
              "      <td>352347</td>\n",
              "    </tr>\n",
              "    <tr>\n",
              "      <th>5</th>\n",
              "      <td>SGVhbHRo</td>\n",
              "      <td>283505</td>\n",
              "    </tr>\n",
              "    <tr>\n",
              "      <th>6</th>\n",
              "      <td>VG95cyBhbmQgR2FtZXM</td>\n",
              "      <td>242213</td>\n",
              "    </tr>\n",
              "    <tr>\n",
              "      <th>7</th>\n",
              "      <td>VG9vbHMgY</td>\n",
              "      <td>1</td>\n",
              "    </tr>\n",
              "    <tr>\n",
              "      <th>8</th>\n",
              "      <td>VG9vbHMgYW5kIGhvbWUgaW1wcm92ZW1lbnQ</td>\n",
              "      <td>129773</td>\n",
              "    </tr>\n",
              "    <tr>\n",
              "      <th>9</th>\n",
              "      <td>YmVhdXR5IGFuZCBwZXJzb25hbCBjYXJl</td>\n",
              "      <td>291861</td>\n",
              "    </tr>\n",
              "    <tr>\n",
              "      <th>10</th>\n",
              "      <td>Z3JvY2VyaWVz</td>\n",
              "      <td>457177</td>\n",
              "    </tr>\n",
              "    <tr>\n",
              "      <th>11</th>\n",
              "      <td>a2l0Y2hpbmcgYW5kIGRpbmluZw</td>\n",
              "      <td>101003</td>\n",
              "    </tr>\n",
              "    <tr>\n",
              "      <th>12</th>\n",
              "      <td>b2ZmaWNlIHByb2R1Y3Rz</td>\n",
              "      <td>32461</td>\n",
              "    </tr>\n",
              "    <tr>\n",
              "      <th>13</th>\n",
              "      <td>cGV0IHN1cHBsaWVz</td>\n",
              "      <td>234974</td>\n",
              "    </tr>\n",
              "  </tbody>\n",
              "</table>\n",
              "</div>\n",
              "      <button class=\"colab-df-convert\" onclick=\"convertToInteractive('df-3cb8f6f5-1024-4372-8916-3bb1a4c02205')\"\n",
              "              title=\"Convert this dataframe to an interactive table.\"\n",
              "              style=\"display:none;\">\n",
              "        \n",
              "  <svg xmlns=\"http://www.w3.org/2000/svg\" height=\"24px\"viewBox=\"0 0 24 24\"\n",
              "       width=\"24px\">\n",
              "    <path d=\"M0 0h24v24H0V0z\" fill=\"none\"/>\n",
              "    <path d=\"M18.56 5.44l.94 2.06.94-2.06 2.06-.94-2.06-.94-.94-2.06-.94 2.06-2.06.94zm-11 1L8.5 8.5l.94-2.06 2.06-.94-2.06-.94L8.5 2.5l-.94 2.06-2.06.94zm10 10l.94 2.06.94-2.06 2.06-.94-2.06-.94-.94-2.06-.94 2.06-2.06.94z\"/><path d=\"M17.41 7.96l-1.37-1.37c-.4-.4-.92-.59-1.43-.59-.52 0-1.04.2-1.43.59L10.3 9.45l-7.72 7.72c-.78.78-.78 2.05 0 2.83L4 21.41c.39.39.9.59 1.41.59.51 0 1.02-.2 1.41-.59l7.78-7.78 2.81-2.81c.8-.78.8-2.07 0-2.86zM5.41 20L4 18.59l7.72-7.72 1.47 1.35L5.41 20z\"/>\n",
              "  </svg>\n",
              "      </button>\n",
              "      \n",
              "  <style>\n",
              "    .colab-df-container {\n",
              "      display:flex;\n",
              "      flex-wrap:wrap;\n",
              "      gap: 12px;\n",
              "    }\n",
              "\n",
              "    .colab-df-convert {\n",
              "      background-color: #E8F0FE;\n",
              "      border: none;\n",
              "      border-radius: 50%;\n",
              "      cursor: pointer;\n",
              "      display: none;\n",
              "      fill: #1967D2;\n",
              "      height: 32px;\n",
              "      padding: 0 0 0 0;\n",
              "      width: 32px;\n",
              "    }\n",
              "\n",
              "    .colab-df-convert:hover {\n",
              "      background-color: #E2EBFA;\n",
              "      box-shadow: 0px 1px 2px rgba(60, 64, 67, 0.3), 0px 1px 3px 1px rgba(60, 64, 67, 0.15);\n",
              "      fill: #174EA6;\n",
              "    }\n",
              "\n",
              "    [theme=dark] .colab-df-convert {\n",
              "      background-color: #3B4455;\n",
              "      fill: #D2E3FC;\n",
              "    }\n",
              "\n",
              "    [theme=dark] .colab-df-convert:hover {\n",
              "      background-color: #434B5C;\n",
              "      box-shadow: 0px 1px 3px 1px rgba(0, 0, 0, 0.15);\n",
              "      filter: drop-shadow(0px 1px 2px rgba(0, 0, 0, 0.3));\n",
              "      fill: #FFFFFF;\n",
              "    }\n",
              "  </style>\n",
              "\n",
              "      <script>\n",
              "        const buttonEl =\n",
              "          document.querySelector('#df-3cb8f6f5-1024-4372-8916-3bb1a4c02205 button.colab-df-convert');\n",
              "        buttonEl.style.display =\n",
              "          google.colab.kernel.accessAllowed ? 'block' : 'none';\n",
              "\n",
              "        async function convertToInteractive(key) {\n",
              "          const element = document.querySelector('#df-3cb8f6f5-1024-4372-8916-3bb1a4c02205');\n",
              "          const dataTable =\n",
              "            await google.colab.kernel.invokeFunction('convertToInteractive',\n",
              "                                                     [key], {});\n",
              "          if (!dataTable) return;\n",
              "\n",
              "          const docLinkHtml = 'Like what you see? Visit the ' +\n",
              "            '<a target=\"_blank\" href=https://colab.research.google.com/notebooks/data_table.ipynb>data table notebook</a>'\n",
              "            + ' to learn more about interactive tables.';\n",
              "          element.innerHTML = '';\n",
              "          dataTable['output_type'] = 'display_data';\n",
              "          await google.colab.output.renderOutput(dataTable, element);\n",
              "          const docLink = document.createElement('div');\n",
              "          docLink.innerHTML = docLinkHtml;\n",
              "          element.appendChild(docLink);\n",
              "        }\n",
              "      </script>\n",
              "    </div>\n",
              "  </div>\n",
              "  "
            ],
            "text/plain": [
              "                               category  count of products\n",
              "0      Q2xvdGhpbmcgYW5kIEFjY2Vzc29yaWVz             830378\n",
              "1                      QXJ0IHN1cHBsaWVz              52885\n",
              "2                           QmFieWNhcmU             230372\n",
              "3                       RWxlY3Ryb25pY3M              84975\n",
              "4        SG91c2Vob2xkIGFuZCBDbGVhbmluZw             352347\n",
              "5                              SGVhbHRo             283505\n",
              "6                   VG95cyBhbmQgR2FtZXM             242213\n",
              "7                             VG9vbHMgY                  1\n",
              "8   VG9vbHMgYW5kIGhvbWUgaW1wcm92ZW1lbnQ             129773\n",
              "9      YmVhdXR5IGFuZCBwZXJzb25hbCBjYXJl             291861\n",
              "10                         Z3JvY2VyaWVz             457177\n",
              "11           a2l0Y2hpbmcgYW5kIGRpbmluZw             101003\n",
              "12                 b2ZmaWNlIHByb2R1Y3Rz              32461\n",
              "13                     cGV0IHN1cHBsaWVz             234974"
            ]
          },
          "metadata": {},
          "execution_count": 254
        }
      ]
    },
    {
      "cell_type": "code",
      "source": [
        "productwithoutprices_level1"
      ],
      "metadata": {
        "colab": {
          "base_uri": "https://localhost:8080/",
          "height": 423
        },
        "id": "vwvM0g2KXn53",
        "outputId": "4e47b698-71cc-4bc4-af3b-67f089cf3f54"
      },
      "execution_count": 255,
      "outputs": [
        {
          "output_type": "execute_result",
          "data": {
            "text/html": [
              "\n",
              "  <div id=\"df-889587ac-4e07-49bb-b614-9598ba556e9e\">\n",
              "    <div class=\"colab-df-container\">\n",
              "      <div>\n",
              "<style scoped>\n",
              "    .dataframe tbody tr th:only-of-type {\n",
              "        vertical-align: middle;\n",
              "    }\n",
              "\n",
              "    .dataframe tbody tr th {\n",
              "        vertical-align: top;\n",
              "    }\n",
              "\n",
              "    .dataframe thead th {\n",
              "        text-align: right;\n",
              "    }\n",
              "</style>\n",
              "<table border=\"1\" class=\"dataframe\">\n",
              "  <thead>\n",
              "    <tr style=\"text-align: right;\">\n",
              "      <th></th>\n",
              "      <th>level_1</th>\n",
              "      <th>count of products</th>\n",
              "    </tr>\n",
              "  </thead>\n",
              "  <tbody>\n",
              "    <tr>\n",
              "      <th>0</th>\n",
              "      <td>MjAgUGludHM</td>\n",
              "      <td>8172</td>\n",
              "    </tr>\n",
              "    <tr>\n",
              "      <th>1</th>\n",
              "      <td>MzAtIDM1IFBpbnRz</td>\n",
              "      <td>4049</td>\n",
              "    </tr>\n",
              "    <tr>\n",
              "      <th>2</th>\n",
              "      <td>NTAgUGludHM</td>\n",
              "      <td>8072</td>\n",
              "    </tr>\n",
              "    <tr>\n",
              "      <th>3</th>\n",
              "      <td>Q0FUIExJVFRFUg</td>\n",
              "      <td>12146</td>\n",
              "    </tr>\n",
              "    <tr>\n",
              "      <th>4</th>\n",
              "      <td>Q290dG9uIFBhZHM</td>\n",
              "      <td>8247</td>\n",
              "    </tr>\n",
              "    <tr>\n",
              "      <th>...</th>\n",
              "      <td>...</td>\n",
              "      <td>...</td>\n",
              "    </tr>\n",
              "    <tr>\n",
              "      <th>471</th>\n",
              "      <td>d29tZW5zIFNhbmRhbHMvU2xpcCBvbnM</td>\n",
              "      <td>8172</td>\n",
              "    </tr>\n",
              "    <tr>\n",
              "      <th>472</th>\n",
              "      <td>d29tZW5zIFdhbGxldA</td>\n",
              "      <td>4098</td>\n",
              "    </tr>\n",
              "    <tr>\n",
              "      <th>473</th>\n",
              "      <td>d29tZW5zIGJvb3Rz</td>\n",
              "      <td>8035</td>\n",
              "    </tr>\n",
              "    <tr>\n",
              "      <th>474</th>\n",
              "      <td>eW9nYSBCbG9ja3M</td>\n",
              "      <td>4129</td>\n",
              "    </tr>\n",
              "    <tr>\n",
              "      <th>475</th>\n",
              "      <td>eW9nYSBib2xzdGVycw</td>\n",
              "      <td>4036</td>\n",
              "    </tr>\n",
              "  </tbody>\n",
              "</table>\n",
              "<p>476 rows × 2 columns</p>\n",
              "</div>\n",
              "      <button class=\"colab-df-convert\" onclick=\"convertToInteractive('df-889587ac-4e07-49bb-b614-9598ba556e9e')\"\n",
              "              title=\"Convert this dataframe to an interactive table.\"\n",
              "              style=\"display:none;\">\n",
              "        \n",
              "  <svg xmlns=\"http://www.w3.org/2000/svg\" height=\"24px\"viewBox=\"0 0 24 24\"\n",
              "       width=\"24px\">\n",
              "    <path d=\"M0 0h24v24H0V0z\" fill=\"none\"/>\n",
              "    <path d=\"M18.56 5.44l.94 2.06.94-2.06 2.06-.94-2.06-.94-.94-2.06-.94 2.06-2.06.94zm-11 1L8.5 8.5l.94-2.06 2.06-.94-2.06-.94L8.5 2.5l-.94 2.06-2.06.94zm10 10l.94 2.06.94-2.06 2.06-.94-2.06-.94-.94-2.06-.94 2.06-2.06.94z\"/><path d=\"M17.41 7.96l-1.37-1.37c-.4-.4-.92-.59-1.43-.59-.52 0-1.04.2-1.43.59L10.3 9.45l-7.72 7.72c-.78.78-.78 2.05 0 2.83L4 21.41c.39.39.9.59 1.41.59.51 0 1.02-.2 1.41-.59l7.78-7.78 2.81-2.81c.8-.78.8-2.07 0-2.86zM5.41 20L4 18.59l7.72-7.72 1.47 1.35L5.41 20z\"/>\n",
              "  </svg>\n",
              "      </button>\n",
              "      \n",
              "  <style>\n",
              "    .colab-df-container {\n",
              "      display:flex;\n",
              "      flex-wrap:wrap;\n",
              "      gap: 12px;\n",
              "    }\n",
              "\n",
              "    .colab-df-convert {\n",
              "      background-color: #E8F0FE;\n",
              "      border: none;\n",
              "      border-radius: 50%;\n",
              "      cursor: pointer;\n",
              "      display: none;\n",
              "      fill: #1967D2;\n",
              "      height: 32px;\n",
              "      padding: 0 0 0 0;\n",
              "      width: 32px;\n",
              "    }\n",
              "\n",
              "    .colab-df-convert:hover {\n",
              "      background-color: #E2EBFA;\n",
              "      box-shadow: 0px 1px 2px rgba(60, 64, 67, 0.3), 0px 1px 3px 1px rgba(60, 64, 67, 0.15);\n",
              "      fill: #174EA6;\n",
              "    }\n",
              "\n",
              "    [theme=dark] .colab-df-convert {\n",
              "      background-color: #3B4455;\n",
              "      fill: #D2E3FC;\n",
              "    }\n",
              "\n",
              "    [theme=dark] .colab-df-convert:hover {\n",
              "      background-color: #434B5C;\n",
              "      box-shadow: 0px 1px 3px 1px rgba(0, 0, 0, 0.15);\n",
              "      filter: drop-shadow(0px 1px 2px rgba(0, 0, 0, 0.3));\n",
              "      fill: #FFFFFF;\n",
              "    }\n",
              "  </style>\n",
              "\n",
              "      <script>\n",
              "        const buttonEl =\n",
              "          document.querySelector('#df-889587ac-4e07-49bb-b614-9598ba556e9e button.colab-df-convert');\n",
              "        buttonEl.style.display =\n",
              "          google.colab.kernel.accessAllowed ? 'block' : 'none';\n",
              "\n",
              "        async function convertToInteractive(key) {\n",
              "          const element = document.querySelector('#df-889587ac-4e07-49bb-b614-9598ba556e9e');\n",
              "          const dataTable =\n",
              "            await google.colab.kernel.invokeFunction('convertToInteractive',\n",
              "                                                     [key], {});\n",
              "          if (!dataTable) return;\n",
              "\n",
              "          const docLinkHtml = 'Like what you see? Visit the ' +\n",
              "            '<a target=\"_blank\" href=https://colab.research.google.com/notebooks/data_table.ipynb>data table notebook</a>'\n",
              "            + ' to learn more about interactive tables.';\n",
              "          element.innerHTML = '';\n",
              "          dataTable['output_type'] = 'display_data';\n",
              "          await google.colab.output.renderOutput(dataTable, element);\n",
              "          const docLink = document.createElement('div');\n",
              "          docLink.innerHTML = docLinkHtml;\n",
              "          element.appendChild(docLink);\n",
              "        }\n",
              "      </script>\n",
              "    </div>\n",
              "  </div>\n",
              "  "
            ],
            "text/plain": [
              "                             level_1  count of products\n",
              "0                        MjAgUGludHM               8172\n",
              "1                   MzAtIDM1IFBpbnRz               4049\n",
              "2                        NTAgUGludHM               8072\n",
              "3                     Q0FUIExJVFRFUg              12146\n",
              "4                    Q290dG9uIFBhZHM               8247\n",
              "..                               ...                ...\n",
              "471  d29tZW5zIFNhbmRhbHMvU2xpcCBvbnM               8172\n",
              "472               d29tZW5zIFdhbGxldA               4098\n",
              "473                 d29tZW5zIGJvb3Rz               8035\n",
              "474                  eW9nYSBCbG9ja3M               4129\n",
              "475               eW9nYSBib2xzdGVycw               4036\n",
              "\n",
              "[476 rows x 2 columns]"
            ]
          },
          "metadata": {},
          "execution_count": 255
        }
      ]
    },
    {
      "cell_type": "markdown",
      "source": [
        "Plotting graphs for products without prices in each product type,category and level1."
      ],
      "metadata": {
        "id": "1KVDxMUeNkkB"
      }
    },
    {
      "cell_type": "code",
      "source": [
        "\n",
        "graph1=sns.catplot(x=\"product_type\", y=\"count of products\",data=productwithoutprices_producttype)\n",
        "graph1.set_xticklabels(rotation=90, horizontalalignment='right', fontsize=5)\n",
        "plt.figure(figsize=(12,12)).show()"
      ],
      "metadata": {
        "colab": {
          "base_uri": "https://localhost:8080/",
          "height": 553
        },
        "id": "Zc57NSZ8-uzx",
        "outputId": "bb9c25f0-963c-45a3-b5ac-8a49f2dcdf68"
      },
      "execution_count": 256,
      "outputs": [
        {
          "output_type": "display_data",
          "data": {
            "image/png": "[encoded data removed]",
            "text/plain": [
              "<Figure size 360x360 with 1 Axes>"
            ]
          },
          "metadata": {
            "needs_background": "light"
          }
        },
        {
          "output_type": "display_data",
          "data": {
            "text/plain": [
              "<Figure size 864x864 with 0 Axes>"
            ]
          },
          "metadata": {}
        }
      ]
    },
    {
      "cell_type": "code",
      "source": [
        "graph2=sns.catplot(x=\"category\", y=\"count of products\", data=productwithoutprices_category)\n",
        "graph2.set_xticklabels(rotation=90, horizontalalignment='right', fontsize=5)\n",
        "plt.figure(figsize=(12,12)).show()"
      ],
      "metadata": {
        "colab": {
          "base_uri": "https://localhost:8080/",
          "height": 500
        },
        "id": "FUL1uUEw_VEc",
        "outputId": "05e00b1f-8c10-4c1b-a5e1-0362d333f992"
      },
      "execution_count": 257,
      "outputs": [
        {
          "output_type": "display_data",
          "data": {
            "image/png": "[encoded data removed]",
            "text/plain": [
              "<Figure size 360x360 with 1 Axes>"
            ]
          },
          "metadata": {
            "needs_background": "light"
          }
        },
        {
          "output_type": "display_data",
          "data": {
            "text/plain": [
              "<Figure size 864x864 with 0 Axes>"
            ]
          },
          "metadata": {}
        }
      ]
    },
    {
      "cell_type": "code",
      "source": [
        "graph3=sns.catplot(x=\"level_1\", y=\"count of products\", data=productwithoutprices_level1)\n",
        "graph3.set_xticklabels(rotation=90, horizontalalignment='right', fontsize=5)\n",
        "plt.figure(figsize=(12,12)).show()"
      ],
      "metadata": {
        "colab": {
          "base_uri": "https://localhost:8080/",
          "height": 579
        },
        "id": "c86q1LIy_XJP",
        "outputId": "eeb01281-6a0a-4f71-97bf-2b43fce18c7b"
      },
      "execution_count": 258,
      "outputs": [
        {
          "output_type": "display_data",
          "data": {
            "image/png": "[encoded data removed]",
            "text/plain": [
              "<Figure size 360x360 with 1 Axes>"
            ]
          },
          "metadata": {
            "needs_background": "light"
          }
        },
        {
          "output_type": "display_data",
          "data": {
            "text/plain": [
              "<Figure size 864x864 with 0 Axes>"
            ]
          },
          "metadata": {}
        }
      ]
    },
    {
      "cell_type": "code",
      "source": [
        "#Count of products with prices in Each Product Type,Category,Level1\n",
        "productwithprices_producttype=productwithprices.groupby(['product_type']).size().reset_index(name='count of products')\n",
        "productwithprices_category=productwithprices.groupby(['category']).size().reset_index(name='count of products')\n",
        "productwithprices_level1=productwithprices.groupby(['level_1']).size().reset_index(name='count of products')"
      ],
      "metadata": {
        "id": "7LhSIO78Arav"
      },
      "execution_count": 259,
      "outputs": []
    },
    {
      "cell_type": "markdown",
      "source": [
        "Plotting graphs for products with prices in each product type,category and level1."
      ],
      "metadata": {
        "id": "EMI8nEKvmtmN"
      }
    },
    {
      "cell_type": "code",
      "source": [
        "graph4=sns.catplot(x=\"product_type\", y=\"count of products\", data=productwithprices_producttype)\n",
        "graph4.set_xticklabels(rotation=90, horizontalalignment='right', fontsize=5)\n",
        "plt.figure(figsize=(12,12)).show()"
      ],
      "metadata": {
        "colab": {
          "base_uri": "https://localhost:8080/",
          "height": 553
        },
        "id": "j55fsI_bA5B9",
        "outputId": "c5353645-821b-4d7d-dbe3-f681f74733fd"
      },
      "execution_count": 260,
      "outputs": [
        {
          "output_type": "display_data",
          "data": {
            "image/png": "[encoded data removed]",
            "text/plain": [
              "<Figure size 360x360 with 1 Axes>"
            ]
          },
          "metadata": {
            "needs_background": "light"
          }
        },
        {
          "output_type": "display_data",
          "data": {
            "text/plain": [
              "<Figure size 864x864 with 0 Axes>"
            ]
          },
          "metadata": {}
        }
      ]
    },
    {
      "cell_type": "code",
      "source": [
        "graph5=sns.catplot(x=\"category\", y=\"count of products\", data=productwithprices_category)\n",
        "graph5.set_xticklabels(rotation=90, horizontalalignment='right', fontsize=5)\n",
        "plt.figure(figsize=(12,12)).show()"
      ],
      "metadata": {
        "colab": {
          "base_uri": "https://localhost:8080/",
          "height": 500
        },
        "id": "o-0HHRDVBK1S",
        "outputId": "2220d185-eaa4-4103-914c-77d5a7605c57"
      },
      "execution_count": 261,
      "outputs": [
        {
          "output_type": "display_data",
          "data": {
            "image/png": "[encoded data removed]",
            "text/plain": [
              "<Figure size 360x360 with 1 Axes>"
            ]
          },
          "metadata": {
            "needs_background": "light"
          }
        },
        {
          "output_type": "display_data",
          "data": {
            "text/plain": [
              "<Figure size 864x864 with 0 Axes>"
            ]
          },
          "metadata": {}
        }
      ]
    },
    {
      "cell_type": "code",
      "source": [
        "graph6=sns.catplot(x=\"level_1\", y=\"count of products\", data=productwithprices_level1)\n",
        "graph6.set_xticklabels(rotation=90, horizontalalignment='right', fontsize=5)\n",
        "plt.figure(figsize=(12,12)).show()"
      ],
      "metadata": {
        "colab": {
          "base_uri": "https://localhost:8080/",
          "height": 518
        },
        "id": "MhfUv43UBO_K",
        "outputId": "b890784b-bfe5-4196-cd9c-31304538e91a"
      },
      "execution_count": 262,
      "outputs": [
        {
          "output_type": "display_data",
          "data": {
            "image/png": "[encoded data removed]",
            "text/plain": [
              "<Figure size 360x360 with 1 Axes>"
            ]
          },
          "metadata": {
            "needs_background": "light"
          }
        },
        {
          "output_type": "display_data",
          "data": {
            "text/plain": [
              "<Figure size 864x864 with 0 Axes>"
            ]
          },
          "metadata": {}
        }
      ]
    },
    {
      "cell_type": "markdown",
      "source": [
        "\n",
        "# **3) Correct Product Prices in the correct format (eg: $56) wherever possible and separate them into currency and value columns.**"
      ],
      "metadata": {
        "id": "DjsqwKsqYfRh"
      }
    },
    {
      "cell_type": "markdown",
      "source": [
        "Removing $ from price string to make it numeric\n"
      ],
      "metadata": {
        "id": "KLceEU6GYrba"
      }
    },
    {
      "cell_type": "code",
      "source": [
        "productwithprices['price_string'] = productwithprices['price_string'].str.replace('$', '')"
      ],
      "metadata": {
        "colab": {
          "base_uri": "https://localhost:8080/"
        },
        "id": "9c_p_I5tYeon",
        "outputId": "c8b6fd88-892c-4a74-cb42-659ec50b7849"
      },
      "execution_count": 263,
      "outputs": [
        {
          "output_type": "stream",
          "name": "stderr",
          "text": [
            "/usr/local/lib/python3.7/dist-packages/ipykernel_launcher.py:1: FutureWarning: The default value of regex will change from True to False in a future version. In addition, single character regular expressions will *not* be treated as literal strings when regex=True.\n",
            "  \"\"\"Entry point for launching an IPython kernel.\n"
          ]
        }
      ]
    },
    {
      "cell_type": "markdown",
      "source": [
        "Prices that are not null"
      ],
      "metadata": {
        "id": "KUPt9WHzEs3z"
      }
    },
    {
      "cell_type": "code",
      "source": [
        "unfiltered=df.loc[df['price_string_unf'].notnull()]\n",
        "\n"
      ],
      "metadata": {
        "id": "dIvs9F1aaZyN"
      },
      "execution_count": 264,
      "outputs": []
    },
    {
      "cell_type": "markdown",
      "source": [
        "Removing alphabets, : , \\n and extra white space from price_string_unf"
      ],
      "metadata": {
        "id": "i5YBj1RvE5qK"
      }
    },
    {
      "cell_type": "code",
      "source": [
        "unfiltered['price_string_unf'] = unfiltered['price_string_unf'].str.replace(\"[a-zA-Z]\", '')\n",
        "unfiltered['price_string_unf'] = unfiltered['price_string_unf'].str.replace(\":\",'')\n",
        "unfiltered['price_string_unf'] = unfiltered['price_string_unf'].str.replace('\\n','')\n",
        "unfiltered['price_string_unf'] = unfiltered['price_string_unf'].str.replace(' ','')\n"
      ],
      "metadata": {
        "colab": {
          "base_uri": "https://localhost:8080/"
        },
        "id": "8qwrJxocclTD",
        "outputId": "b7398043-e43e-49df-b630-91608ef95180"
      },
      "execution_count": 265,
      "outputs": [
        {
          "output_type": "stream",
          "name": "stderr",
          "text": [
            "/usr/local/lib/python3.7/dist-packages/ipykernel_launcher.py:1: FutureWarning: The default value of regex will change from True to False in a future version.\n",
            "  \"\"\"Entry point for launching an IPython kernel.\n",
            "/usr/local/lib/python3.7/dist-packages/ipykernel_launcher.py:1: SettingWithCopyWarning: \n",
            "A value is trying to be set on a copy of a slice from a DataFrame.\n",
            "Try using .loc[row_indexer,col_indexer] = value instead\n",
            "\n",
            "See the caveats in the documentation: https://pandas.pydata.org/pandas-docs/stable/user_guide/indexing.html#returning-a-view-versus-a-copy\n",
            "  \"\"\"Entry point for launching an IPython kernel.\n",
            "/usr/local/lib/python3.7/dist-packages/ipykernel_launcher.py:2: SettingWithCopyWarning: \n",
            "A value is trying to be set on a copy of a slice from a DataFrame.\n",
            "Try using .loc[row_indexer,col_indexer] = value instead\n",
            "\n",
            "See the caveats in the documentation: https://pandas.pydata.org/pandas-docs/stable/user_guide/indexing.html#returning-a-view-versus-a-copy\n",
            "  \n",
            "/usr/local/lib/python3.7/dist-packages/ipykernel_launcher.py:3: SettingWithCopyWarning: \n",
            "A value is trying to be set on a copy of a slice from a DataFrame.\n",
            "Try using .loc[row_indexer,col_indexer] = value instead\n",
            "\n",
            "See the caveats in the documentation: https://pandas.pydata.org/pandas-docs/stable/user_guide/indexing.html#returning-a-view-versus-a-copy\n",
            "  This is separate from the ipykernel package so we can avoid doing imports until\n",
            "/usr/local/lib/python3.7/dist-packages/ipykernel_launcher.py:4: SettingWithCopyWarning: \n",
            "A value is trying to be set on a copy of a slice from a DataFrame.\n",
            "Try using .loc[row_indexer,col_indexer] = value instead\n",
            "\n",
            "See the caveats in the documentation: https://pandas.pydata.org/pandas-docs/stable/user_guide/indexing.html#returning-a-view-versus-a-copy\n",
            "  after removing the cwd from sys.path.\n"
          ]
        }
      ]
    },
    {
      "cell_type": "code",
      "source": [
        "unfiltered['price_string_unf']"
      ],
      "metadata": {
        "colab": {
          "base_uri": "https://localhost:8080/"
        },
        "id": "1qSWafMddAf7",
        "outputId": "f667083e-e4c6-4cd1-fa5b-53fe173d233f"
      },
      "execution_count": 266,
      "outputs": [
        {
          "output_type": "execute_result",
          "data": {
            "text/plain": [
              "61         $359.00\n",
              "115          $6.75\n",
              "116         $15.00\n",
              "176         $18.95\n",
              "182        $459.99\n",
              "            ...   \n",
              "5557939     $10.00\n",
              "5558015     $11.99\n",
              "5558039     $15.00\n",
              "5558105     $25.00\n",
              "5558235        $95\n",
              "Name: price_string_unf, Length: 125956, dtype: object"
            ]
          },
          "metadata": {},
          "execution_count": 266
        }
      ]
    },
    {
      "cell_type": "code",
      "source": [
        "#split to remove garbage value\n",
        "list=unfiltered['price_string_unf'].str.split('$',2)\n",
        "\n",
        "unfiltered['price_string_unf']=list.apply(lambda col: col[1])\n",
        "\n",
        "#adding $ before the currency\n",
        "unfiltered['price_string_unf']='$'+ unfiltered['price_string_unf'].astype(str)\n"
      ],
      "metadata": {
        "colab": {
          "base_uri": "https://localhost:8080/"
        },
        "id": "DYU34KlSfVwe",
        "outputId": "c7842bb9-0bc6-4587-d647-ea352f4381e1"
      },
      "execution_count": 267,
      "outputs": [
        {
          "output_type": "stream",
          "name": "stderr",
          "text": [
            "/usr/local/lib/python3.7/dist-packages/ipykernel_launcher.py:4: SettingWithCopyWarning: \n",
            "A value is trying to be set on a copy of a slice from a DataFrame.\n",
            "Try using .loc[row_indexer,col_indexer] = value instead\n",
            "\n",
            "See the caveats in the documentation: https://pandas.pydata.org/pandas-docs/stable/user_guide/indexing.html#returning-a-view-versus-a-copy\n",
            "  after removing the cwd from sys.path.\n",
            "/usr/local/lib/python3.7/dist-packages/ipykernel_launcher.py:7: SettingWithCopyWarning: \n",
            "A value is trying to be set on a copy of a slice from a DataFrame.\n",
            "Try using .loc[row_indexer,col_indexer] = value instead\n",
            "\n",
            "See the caveats in the documentation: https://pandas.pydata.org/pandas-docs/stable/user_guide/indexing.html#returning-a-view-versus-a-copy\n",
            "  import sys\n"
          ]
        }
      ]
    },
    {
      "cell_type": "code",
      "source": [
        "unfiltered['price_string_unf']"
      ],
      "metadata": {
        "colab": {
          "base_uri": "https://localhost:8080/"
        },
        "id": "a89IFewOoXAD",
        "outputId": "9348c05a-46c1-485b-a072-aa40ba8779f3"
      },
      "execution_count": 268,
      "outputs": [
        {
          "output_type": "execute_result",
          "data": {
            "text/plain": [
              "61         $359.00\n",
              "115          $6.75\n",
              "116         $15.00\n",
              "176         $18.95\n",
              "182        $459.99\n",
              "            ...   \n",
              "5557939     $10.00\n",
              "5558015     $11.99\n",
              "5558039     $15.00\n",
              "5558105     $25.00\n",
              "5558235        $95\n",
              "Name: price_string_unf, Length: 125956, dtype: object"
            ]
          },
          "metadata": {},
          "execution_count": 268
        }
      ]
    },
    {
      "cell_type": "markdown",
      "source": [
        "seperating the prices into value and currency columns"
      ],
      "metadata": {
        "id": "zRcMPCofHwGu"
      }
    },
    {
      "cell_type": "code",
      "source": [
        "\n",
        "value=unfiltered['price_string_unf'].str.replace('$', '').astype(float)\n",
        "unfiltered.insert(3, \"currency\", \"$\")\n",
        "unfiltered.insert(4, \"value\", value)"
      ],
      "metadata": {
        "colab": {
          "base_uri": "https://localhost:8080/"
        },
        "id": "wACHKmtLf0M1",
        "outputId": "3e94c2f3-1eb0-416f-f311-da01e737b49e"
      },
      "execution_count": 269,
      "outputs": [
        {
          "output_type": "stream",
          "name": "stderr",
          "text": [
            "/usr/local/lib/python3.7/dist-packages/ipykernel_launcher.py:2: FutureWarning: The default value of regex will change from True to False in a future version. In addition, single character regular expressions will *not* be treated as literal strings when regex=True.\n",
            "  \n"
          ]
        }
      ]
    },
    {
      "cell_type": "code",
      "source": [
        "unfiltered"
      ],
      "metadata": {
        "colab": {
          "base_uri": "https://localhost:8080/",
          "height": 991
        },
        "id": "QrO5WLkVf3DE",
        "outputId": "bc252191-5c1d-4df6-c374-7ac50192f04a"
      },
      "execution_count": 270,
      "outputs": [
        {
          "output_type": "execute_result",
          "data": {
            "text/html": [
              "\n",
              "  <div id=\"df-955adcf1-6e8d-407c-b164-bbabf34b7764\">\n",
              "    <div class=\"colab-df-container\">\n",
              "      <div>\n",
              "<style scoped>\n",
              "    .dataframe tbody tr th:only-of-type {\n",
              "        vertical-align: middle;\n",
              "    }\n",
              "\n",
              "    .dataframe tbody tr th {\n",
              "        vertical-align: top;\n",
              "    }\n",
              "\n",
              "    .dataframe thead th {\n",
              "        text-align: right;\n",
              "    }\n",
              "</style>\n",
              "<table border=\"1\" class=\"dataframe\">\n",
              "  <thead>\n",
              "    <tr style=\"text-align: right;\">\n",
              "      <th></th>\n",
              "      <th>uuid</th>\n",
              "      <th>price_string</th>\n",
              "      <th>price_string_unf</th>\n",
              "      <th>currency</th>\n",
              "      <th>value</th>\n",
              "      <th>product_type</th>\n",
              "      <th>level_1</th>\n",
              "      <th>category</th>\n",
              "    </tr>\n",
              "  </thead>\n",
              "  <tbody>\n",
              "    <tr>\n",
              "      <th>61</th>\n",
              "      <td>13724827-979f-4019-9ff1-b44e57af5802</td>\n",
              "      <td>NaN</td>\n",
              "      <td>$359.00</td>\n",
              "      <td>$</td>\n",
              "      <td>359.00</td>\n",
              "      <td>U3Ryb2xsZXJzL0NhciBzZWF0cy8gQWNjZXNzb3JpZXM</td>\n",
              "      <td>Q2FyIHNlYXRz</td>\n",
              "      <td>QmFieWNhcmU</td>\n",
              "    </tr>\n",
              "    <tr>\n",
              "      <th>115</th>\n",
              "      <td>8e4fdac3-afc9-4242-9136-90d13e116724</td>\n",
              "      <td>$6.75</td>\n",
              "      <td>$6.75</td>\n",
              "      <td>$</td>\n",
              "      <td>6.75</td>\n",
              "      <td>Q29mZmVlIEJlYW5z</td>\n",
              "      <td>RGFyayBSb2FzdA</td>\n",
              "      <td>Z3JvY2VyaWVz</td>\n",
              "    </tr>\n",
              "    <tr>\n",
              "      <th>116</th>\n",
              "      <td>53beedf4-ed7c-4407-9081-7ae41f3a7282</td>\n",
              "      <td>$15.00</td>\n",
              "      <td>$15.00</td>\n",
              "      <td>$</td>\n",
              "      <td>15.00</td>\n",
              "      <td>RG91Z2ggSmFy</td>\n",
              "      <td>UGxheWRvdWdoIC8gUGxheWRvaA</td>\n",
              "      <td>VG95cyBhbmQgR2FtZXM</td>\n",
              "    </tr>\n",
              "    <tr>\n",
              "      <th>176</th>\n",
              "      <td>d3a85b19-cf28-413a-b8ee-518622025bdd</td>\n",
              "      <td>$18.95</td>\n",
              "      <td>$18.95</td>\n",
              "      <td>$</td>\n",
              "      <td>18.95</td>\n",
              "      <td>QmFieSBXaXBlcw</td>\n",
              "      <td>QmFieSBXaXBlcw</td>\n",
              "      <td>QmFieWNhcmU</td>\n",
              "    </tr>\n",
              "    <tr>\n",
              "      <th>182</th>\n",
              "      <td>623f06c9-5147-471a-a58f-162caca48a32</td>\n",
              "      <td>$459.99</td>\n",
              "      <td>$459.99</td>\n",
              "      <td>$</td>\n",
              "      <td>459.99</td>\n",
              "      <td>U3Ryb2xsZXJzL0NhciBzZWF0cy8gQWNjZXNzb3JpZXM</td>\n",
              "      <td>Q2FyIHNlYXRz</td>\n",
              "      <td>QmFieWNhcmU</td>\n",
              "    </tr>\n",
              "    <tr>\n",
              "      <th>...</th>\n",
              "      <td>...</td>\n",
              "      <td>...</td>\n",
              "      <td>...</td>\n",
              "      <td>...</td>\n",
              "      <td>...</td>\n",
              "      <td>...</td>\n",
              "      <td>...</td>\n",
              "      <td>...</td>\n",
              "    </tr>\n",
              "    <tr>\n",
              "      <th>5557939</th>\n",
              "      <td>1235c157-0b13-494d-99fb-02b2b386bc78</td>\n",
              "      <td>$10.00</td>\n",
              "      <td>$10.00</td>\n",
              "      <td>$</td>\n",
              "      <td>10.00</td>\n",
              "      <td>UGV0IFRyZWF0cw</td>\n",
              "      <td>RG9nIFRyZWF0cw</td>\n",
              "      <td>cGV0IHN1cHBsaWVz</td>\n",
              "    </tr>\n",
              "    <tr>\n",
              "      <th>5558015</th>\n",
              "      <td>78668cf7-2fb9-4316-bf43-5d146d25408c</td>\n",
              "      <td>$11.99</td>\n",
              "      <td>$11.99</td>\n",
              "      <td>$</td>\n",
              "      <td>11.99</td>\n",
              "      <td>RGlhcGVycw</td>\n",
              "      <td>RGlhcGVycyBmb3IgYmFieQ</td>\n",
              "      <td>QmFieWNhcmU</td>\n",
              "    </tr>\n",
              "    <tr>\n",
              "      <th>5558039</th>\n",
              "      <td>53beedf4-ed7c-4407-9081-7ae41f3a7282</td>\n",
              "      <td>$15.00</td>\n",
              "      <td>$15.00</td>\n",
              "      <td>$</td>\n",
              "      <td>15.00</td>\n",
              "      <td>RG91Z2ggSmFy</td>\n",
              "      <td>UGxheWRvdWdoIC8gUGxheWRvaA</td>\n",
              "      <td>VG95cyBhbmQgR2FtZXM</td>\n",
              "    </tr>\n",
              "    <tr>\n",
              "      <th>5558105</th>\n",
              "      <td>05ddee10-cde7-41f7-99d9-d0bc2f43a9cf</td>\n",
              "      <td>$25.00</td>\n",
              "      <td>$25.00</td>\n",
              "      <td>$</td>\n",
              "      <td>25.00</td>\n",
              "      <td>RG91Z2ggS2l0L1Byb2plY3Q</td>\n",
              "      <td>UGxheSBEb3VnaCBLaXQvUHJvamVjdA</td>\n",
              "      <td>VG95cyBhbmQgR2FtZXM</td>\n",
              "    </tr>\n",
              "    <tr>\n",
              "      <th>5558235</th>\n",
              "      <td>ee190818-4cc7-403e-8895-31fd6e243d14</td>\n",
              "      <td>$95</td>\n",
              "      <td>$95</td>\n",
              "      <td>$</td>\n",
              "      <td>95.00</td>\n",
              "      <td>TWF0ZXJuaXR5IERyZXNz</td>\n",
              "      <td>TWF0ZXJuaXR5IE1heGkgRHJlc3M</td>\n",
              "      <td>Q2xvdGhpbmcgYW5kIEFjY2Vzc29yaWVz</td>\n",
              "    </tr>\n",
              "  </tbody>\n",
              "</table>\n",
              "<p>125956 rows × 8 columns</p>\n",
              "</div>\n",
              "      <button class=\"colab-df-convert\" onclick=\"convertToInteractive('df-955adcf1-6e8d-407c-b164-bbabf34b7764')\"\n",
              "              title=\"Convert this dataframe to an interactive table.\"\n",
              "              style=\"display:none;\">\n",
              "        \n",
              "  <svg xmlns=\"http://www.w3.org/2000/svg\" height=\"24px\"viewBox=\"0 0 24 24\"\n",
              "       width=\"24px\">\n",
              "    <path d=\"M0 0h24v24H0V0z\" fill=\"none\"/>\n",
              "    <path d=\"M18.56 5.44l.94 2.06.94-2.06 2.06-.94-2.06-.94-.94-2.06-.94 2.06-2.06.94zm-11 1L8.5 8.5l.94-2.06 2.06-.94-2.06-.94L8.5 2.5l-.94 2.06-2.06.94zm10 10l.94 2.06.94-2.06 2.06-.94-2.06-.94-.94-2.06-.94 2.06-2.06.94z\"/><path d=\"M17.41 7.96l-1.37-1.37c-.4-.4-.92-.59-1.43-.59-.52 0-1.04.2-1.43.59L10.3 9.45l-7.72 7.72c-.78.78-.78 2.05 0 2.83L4 21.41c.39.39.9.59 1.41.59.51 0 1.02-.2 1.41-.59l7.78-7.78 2.81-2.81c.8-.78.8-2.07 0-2.86zM5.41 20L4 18.59l7.72-7.72 1.47 1.35L5.41 20z\"/>\n",
              "  </svg>\n",
              "      </button>\n",
              "      \n",
              "  <style>\n",
              "    .colab-df-container {\n",
              "      display:flex;\n",
              "      flex-wrap:wrap;\n",
              "      gap: 12px;\n",
              "    }\n",
              "\n",
              "    .colab-df-convert {\n",
              "      background-color: #E8F0FE;\n",
              "      border: none;\n",
              "      border-radius: 50%;\n",
              "      cursor: pointer;\n",
              "      display: none;\n",
              "      fill: #1967D2;\n",
              "      height: 32px;\n",
              "      padding: 0 0 0 0;\n",
              "      width: 32px;\n",
              "    }\n",
              "\n",
              "    .colab-df-convert:hover {\n",
              "      background-color: #E2EBFA;\n",
              "      box-shadow: 0px 1px 2px rgba(60, 64, 67, 0.3), 0px 1px 3px 1px rgba(60, 64, 67, 0.15);\n",
              "      fill: #174EA6;\n",
              "    }\n",
              "\n",
              "    [theme=dark] .colab-df-convert {\n",
              "      background-color: #3B4455;\n",
              "      fill: #D2E3FC;\n",
              "    }\n",
              "\n",
              "    [theme=dark] .colab-df-convert:hover {\n",
              "      background-color: #434B5C;\n",
              "      box-shadow: 0px 1px 3px 1px rgba(0, 0, 0, 0.15);\n",
              "      filter: drop-shadow(0px 1px 2px rgba(0, 0, 0, 0.3));\n",
              "      fill: #FFFFFF;\n",
              "    }\n",
              "  </style>\n",
              "\n",
              "      <script>\n",
              "        const buttonEl =\n",
              "          document.querySelector('#df-955adcf1-6e8d-407c-b164-bbabf34b7764 button.colab-df-convert');\n",
              "        buttonEl.style.display =\n",
              "          google.colab.kernel.accessAllowed ? 'block' : 'none';\n",
              "\n",
              "        async function convertToInteractive(key) {\n",
              "          const element = document.querySelector('#df-955adcf1-6e8d-407c-b164-bbabf34b7764');\n",
              "          const dataTable =\n",
              "            await google.colab.kernel.invokeFunction('convertToInteractive',\n",
              "                                                     [key], {});\n",
              "          if (!dataTable) return;\n",
              "\n",
              "          const docLinkHtml = 'Like what you see? Visit the ' +\n",
              "            '<a target=\"_blank\" href=https://colab.research.google.com/notebooks/data_table.ipynb>data table notebook</a>'\n",
              "            + ' to learn more about interactive tables.';\n",
              "          element.innerHTML = '';\n",
              "          dataTable['output_type'] = 'display_data';\n",
              "          await google.colab.output.renderOutput(dataTable, element);\n",
              "          const docLink = document.createElement('div');\n",
              "          docLink.innerHTML = docLinkHtml;\n",
              "          element.appendChild(docLink);\n",
              "        }\n",
              "      </script>\n",
              "    </div>\n",
              "  </div>\n",
              "  "
            ],
            "text/plain": [
              "                                         uuid  ...                          category\n",
              "61       13724827-979f-4019-9ff1-b44e57af5802  ...                       QmFieWNhcmU\n",
              "115      8e4fdac3-afc9-4242-9136-90d13e116724  ...                      Z3JvY2VyaWVz\n",
              "116      53beedf4-ed7c-4407-9081-7ae41f3a7282  ...               VG95cyBhbmQgR2FtZXM\n",
              "176      d3a85b19-cf28-413a-b8ee-518622025bdd  ...                       QmFieWNhcmU\n",
              "182      623f06c9-5147-471a-a58f-162caca48a32  ...                       QmFieWNhcmU\n",
              "...                                       ...  ...                               ...\n",
              "5557939  1235c157-0b13-494d-99fb-02b2b386bc78  ...                  cGV0IHN1cHBsaWVz\n",
              "5558015  78668cf7-2fb9-4316-bf43-5d146d25408c  ...                       QmFieWNhcmU\n",
              "5558039  53beedf4-ed7c-4407-9081-7ae41f3a7282  ...               VG95cyBhbmQgR2FtZXM\n",
              "5558105  05ddee10-cde7-41f7-99d9-d0bc2f43a9cf  ...               VG95cyBhbmQgR2FtZXM\n",
              "5558235  ee190818-4cc7-403e-8895-31fd6e243d14  ...  Q2xvdGhpbmcgYW5kIEFjY2Vzc29yaWVz\n",
              "\n",
              "[125956 rows x 8 columns]"
            ]
          },
          "metadata": {},
          "execution_count": 270
        }
      ]
    },
    {
      "cell_type": "markdown",
      "source": [
        "# **4) List out the categories with average price of product**"
      ],
      "metadata": {
        "id": "so3pI0ZagcXH"
      }
    },
    {
      "cell_type": "code",
      "source": [
        "avgprice=productwithprices.groupby('category')['value'].mean().reset_index(name='average_price')\n",
        "avgprice"
      ],
      "metadata": {
        "id": "dpwRTPDDkUaw",
        "colab": {
          "base_uri": "https://localhost:8080/",
          "height": 457
        },
        "outputId": "2ce77030-079c-4748-ba3d-62c2a82de989"
      },
      "execution_count": 271,
      "outputs": [
        {
          "output_type": "execute_result",
          "data": {
            "text/html": [
              "\n",
              "  <div id=\"df-d4702236-d043-40d9-949c-db5563986349\">\n",
              "    <div class=\"colab-df-container\">\n",
              "      <div>\n",
              "<style scoped>\n",
              "    .dataframe tbody tr th:only-of-type {\n",
              "        vertical-align: middle;\n",
              "    }\n",
              "\n",
              "    .dataframe tbody tr th {\n",
              "        vertical-align: top;\n",
              "    }\n",
              "\n",
              "    .dataframe thead th {\n",
              "        text-align: right;\n",
              "    }\n",
              "</style>\n",
              "<table border=\"1\" class=\"dataframe\">\n",
              "  <thead>\n",
              "    <tr style=\"text-align: right;\">\n",
              "      <th></th>\n",
              "      <th>category</th>\n",
              "      <th>average_price</th>\n",
              "    </tr>\n",
              "  </thead>\n",
              "  <tbody>\n",
              "    <tr>\n",
              "      <th>0</th>\n",
              "      <td>Q2xvdGhpbmcgYW5kIEFjY2Vzc29yaWVz</td>\n",
              "      <td>125.108891</td>\n",
              "    </tr>\n",
              "    <tr>\n",
              "      <th>1</th>\n",
              "      <td>QXJ0IHN1cHBsaWVz</td>\n",
              "      <td>19.450075</td>\n",
              "    </tr>\n",
              "    <tr>\n",
              "      <th>2</th>\n",
              "      <td>QmFieWNhcmU</td>\n",
              "      <td>159.018115</td>\n",
              "    </tr>\n",
              "    <tr>\n",
              "      <th>3</th>\n",
              "      <td>RWxlY3Ryb25pY3M</td>\n",
              "      <td>61.066776</td>\n",
              "    </tr>\n",
              "    <tr>\n",
              "      <th>4</th>\n",
              "      <td>SG91c2Vob2xkIGFuZCBDbGVhbmluZw</td>\n",
              "      <td>74.830782</td>\n",
              "    </tr>\n",
              "    <tr>\n",
              "      <th>5</th>\n",
              "      <td>SGVhbHRo</td>\n",
              "      <td>32.658278</td>\n",
              "    </tr>\n",
              "    <tr>\n",
              "      <th>6</th>\n",
              "      <td>VG95cyBhbmQgR2FtZXM</td>\n",
              "      <td>32.230692</td>\n",
              "    </tr>\n",
              "    <tr>\n",
              "      <th>7</th>\n",
              "      <td>VG9vbHMgYW5kIGhvbWUgaW1wcm92ZW1lbnQ</td>\n",
              "      <td>82.579097</td>\n",
              "    </tr>\n",
              "    <tr>\n",
              "      <th>8</th>\n",
              "      <td>YmVhdXR5IGFuZCBwZXJzb25hbCBjYXJl</td>\n",
              "      <td>34.714605</td>\n",
              "    </tr>\n",
              "    <tr>\n",
              "      <th>9</th>\n",
              "      <td>Z3JvY2VyaWVz</td>\n",
              "      <td>10.549459</td>\n",
              "    </tr>\n",
              "    <tr>\n",
              "      <th>10</th>\n",
              "      <td>a2l0Y2hpbmcgYW5kIGRpbmluZw</td>\n",
              "      <td>16.584456</td>\n",
              "    </tr>\n",
              "    <tr>\n",
              "      <th>11</th>\n",
              "      <td>b2ZmaWNlIHByb2R1Y3Rz</td>\n",
              "      <td>18.483150</td>\n",
              "    </tr>\n",
              "    <tr>\n",
              "      <th>12</th>\n",
              "      <td>cGV0IHN1cHBsaWVz</td>\n",
              "      <td>13.604957</td>\n",
              "    </tr>\n",
              "  </tbody>\n",
              "</table>\n",
              "</div>\n",
              "      <button class=\"colab-df-convert\" onclick=\"convertToInteractive('df-d4702236-d043-40d9-949c-db5563986349')\"\n",
              "              title=\"Convert this dataframe to an interactive table.\"\n",
              "              style=\"display:none;\">\n",
              "        \n",
              "  <svg xmlns=\"http://www.w3.org/2000/svg\" height=\"24px\"viewBox=\"0 0 24 24\"\n",
              "       width=\"24px\">\n",
              "    <path d=\"M0 0h24v24H0V0z\" fill=\"none\"/>\n",
              "    <path d=\"M18.56 5.44l.94 2.06.94-2.06 2.06-.94-2.06-.94-.94-2.06-.94 2.06-2.06.94zm-11 1L8.5 8.5l.94-2.06 2.06-.94-2.06-.94L8.5 2.5l-.94 2.06-2.06.94zm10 10l.94 2.06.94-2.06 2.06-.94-2.06-.94-.94-2.06-.94 2.06-2.06.94z\"/><path d=\"M17.41 7.96l-1.37-1.37c-.4-.4-.92-.59-1.43-.59-.52 0-1.04.2-1.43.59L10.3 9.45l-7.72 7.72c-.78.78-.78 2.05 0 2.83L4 21.41c.39.39.9.59 1.41.59.51 0 1.02-.2 1.41-.59l7.78-7.78 2.81-2.81c.8-.78.8-2.07 0-2.86zM5.41 20L4 18.59l7.72-7.72 1.47 1.35L5.41 20z\"/>\n",
              "  </svg>\n",
              "      </button>\n",
              "      \n",
              "  <style>\n",
              "    .colab-df-container {\n",
              "      display:flex;\n",
              "      flex-wrap:wrap;\n",
              "      gap: 12px;\n",
              "    }\n",
              "\n",
              "    .colab-df-convert {\n",
              "      background-color: #E8F0FE;\n",
              "      border: none;\n",
              "      border-radius: 50%;\n",
              "      cursor: pointer;\n",
              "      display: none;\n",
              "      fill: #1967D2;\n",
              "      height: 32px;\n",
              "      padding: 0 0 0 0;\n",
              "      width: 32px;\n",
              "    }\n",
              "\n",
              "    .colab-df-convert:hover {\n",
              "      background-color: #E2EBFA;\n",
              "      box-shadow: 0px 1px 2px rgba(60, 64, 67, 0.3), 0px 1px 3px 1px rgba(60, 64, 67, 0.15);\n",
              "      fill: #174EA6;\n",
              "    }\n",
              "\n",
              "    [theme=dark] .colab-df-convert {\n",
              "      background-color: #3B4455;\n",
              "      fill: #D2E3FC;\n",
              "    }\n",
              "\n",
              "    [theme=dark] .colab-df-convert:hover {\n",
              "      background-color: #434B5C;\n",
              "      box-shadow: 0px 1px 3px 1px rgba(0, 0, 0, 0.15);\n",
              "      filter: drop-shadow(0px 1px 2px rgba(0, 0, 0, 0.3));\n",
              "      fill: #FFFFFF;\n",
              "    }\n",
              "  </style>\n",
              "\n",
              "      <script>\n",
              "        const buttonEl =\n",
              "          document.querySelector('#df-d4702236-d043-40d9-949c-db5563986349 button.colab-df-convert');\n",
              "        buttonEl.style.display =\n",
              "          google.colab.kernel.accessAllowed ? 'block' : 'none';\n",
              "\n",
              "        async function convertToInteractive(key) {\n",
              "          const element = document.querySelector('#df-d4702236-d043-40d9-949c-db5563986349');\n",
              "          const dataTable =\n",
              "            await google.colab.kernel.invokeFunction('convertToInteractive',\n",
              "                                                     [key], {});\n",
              "          if (!dataTable) return;\n",
              "\n",
              "          const docLinkHtml = 'Like what you see? Visit the ' +\n",
              "            '<a target=\"_blank\" href=https://colab.research.google.com/notebooks/data_table.ipynb>data table notebook</a>'\n",
              "            + ' to learn more about interactive tables.';\n",
              "          element.innerHTML = '';\n",
              "          dataTable['output_type'] = 'display_data';\n",
              "          await google.colab.output.renderOutput(dataTable, element);\n",
              "          const docLink = document.createElement('div');\n",
              "          docLink.innerHTML = docLinkHtml;\n",
              "          element.appendChild(docLink);\n",
              "        }\n",
              "      </script>\n",
              "    </div>\n",
              "  </div>\n",
              "  "
            ],
            "text/plain": [
              "                               category  average_price\n",
              "0      Q2xvdGhpbmcgYW5kIEFjY2Vzc29yaWVz     125.108891\n",
              "1                      QXJ0IHN1cHBsaWVz      19.450075\n",
              "2                           QmFieWNhcmU     159.018115\n",
              "3                       RWxlY3Ryb25pY3M      61.066776\n",
              "4        SG91c2Vob2xkIGFuZCBDbGVhbmluZw      74.830782\n",
              "5                              SGVhbHRo      32.658278\n",
              "6                   VG95cyBhbmQgR2FtZXM      32.230692\n",
              "7   VG9vbHMgYW5kIGhvbWUgaW1wcm92ZW1lbnQ      82.579097\n",
              "8      YmVhdXR5IGFuZCBwZXJzb25hbCBjYXJl      34.714605\n",
              "9                          Z3JvY2VyaWVz      10.549459\n",
              "10           a2l0Y2hpbmcgYW5kIGRpbmluZw      16.584456\n",
              "11                 b2ZmaWNlIHByb2R1Y3Rz      18.483150\n",
              "12                     cGV0IHN1cHBsaWVz      13.604957"
            ]
          },
          "metadata": {},
          "execution_count": 271
        }
      ]
    }
  ]
}